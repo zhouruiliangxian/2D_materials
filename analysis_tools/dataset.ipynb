{
 "cells": [
  {
   "cell_type": "markdown",
   "id": "ecdd9fd6",
   "metadata": {},
   "source": [
    "# MoS2数据集可视化"
   ]
  },
  {
   "cell_type": "code",
   "execution_count": 1,
   "id": "23bef414",
   "metadata": {},
   "outputs": [],
   "source": [
    "import os\n",
    "import numpy as np\n",
    "import cv2\n",
    "import matplotlib.pyplot as plt\n",
    "%matplotlib inline"
   ]
  },
  {
   "cell_type": "code",
   "execution_count": 8,
   "id": "e587fbd2",
   "metadata": {},
   "outputs": [],
   "source": [
    "picture = r'D:\\notebook\\ann_dir\\test'\n",
    "png_files = os.listdir(picture)"
   ]
  },
  {
   "cell_type": "code",
   "execution_count": 9,
   "id": "09382403",
   "metadata": {},
   "outputs": [
    {
     "name": "stdout",
     "output_type": "stream",
     "text": [
      "3146960 3123064 392148 242596\n"
     ]
    }
   ],
   "source": [
    "test0=0\n",
    "test1=0\n",
    "test2=0\n",
    "test3=0\n",
    "\n",
    "for img_file in png_files:\n",
    "    img = os.path.join(picture,img_file)\n",
    "    # 获取文件名（不包含扩展名）\n",
    "    img = cv2.imread(img)\n",
    "    height, width = img.shape[:2]\n",
    "    for i in range(0, height):\n",
    "        for j in range(0,width):\n",
    "            if np.array_equal(img[i,j], [0,0,0]):\n",
    "                test0=test0+1\n",
    "            if np.array_equal(img[i,j], [1,1,1]):\n",
    "                test1=test1+1\n",
    "            if np.array_equal(img[i,j], [2,2,2]):\n",
    "                test2=test2+1\n",
    "            if np.array_equal(img[i,j], [3,3,3]):\n",
    "                test3=test3+1\n",
    "\n",
    "print(test0,test1,test2,test3)"
   ]
  },
  {
   "cell_type": "code",
   "execution_count": 18,
   "id": "c7653ca7",
   "metadata": {},
   "outputs": [
    {
     "name": "stdout",
     "output_type": "stream",
     "text": [
      "31573918 19586520 1910672 3229306\n",
      "train0占总train的比例: 56.08%\n",
      "train1占总train的比例: 34.79%\n",
      "train2占总train的比例: 3.39%\n",
      "train3占总train的比例: 5.74%\n"
     ]
    },
    {
     "data": {
      "image/png": "[encoded data removed]",
      "text/plain": [
       "<Figure size 640x480 with 1 Axes>"
      ]
     },
     "metadata": {},
     "output_type": "display_data"
    }
   ],
   "source": [
    "picture = r'D:\\notebook\\ann_dir\\train'\n",
    "png_files = os.listdir(picture)\n",
    "train0 = train1 = train2 = train3 = 0\n",
    "for img_file in png_files:\n",
    "    img_path = os.path.join(picture, img_file)\n",
    "    mask = cv2.imread(img_path)\n",
    "\n",
    "    # 使用cv2.inRange()检查每个特定颜色的像素，然后计数\n",
    "    train0 += cv2.countNonZero(cv2.inRange(mask, np.array([0,0,0]), np.array([0,0,0])))\n",
    "    train1 += cv2.countNonZero(cv2.inRange(mask, np.array([1,1,1]), np.array([1,1,1])))\n",
    "    train2 += cv2.countNonZero(cv2.inRange(mask, np.array([2,2,2]), np.array([2,2,2])))\n",
    "    train3 += cv2.countNonZero(cv2.inRange(mask, np.array([3,3,3]), np.array([3,3,3])))\n",
    "\n",
    "print(train0, train1, train2, train3)\n",
    "total_train = train0 + train1 + train2 + train3\n",
    "\n",
    "# 计算train0, train1, train2, train3占总train的比例\n",
    "train0_ratio = train0 / total_train if total_train > 0 else 0\n",
    "train1_ratio = train1 / total_train if total_train > 0 else 0\n",
    "train2_ratio = train2 / total_train if total_train > 0 else 0\n",
    "train3_ratio = train3 / total_train if total_train > 0 else 0\n",
    "\n",
    "print(f\"train0占总train的比例: {train0_ratio*100:.2f}%\")\n",
    "print(f\"train1占总train的比例: {train1_ratio*100:.2f}%\")\n",
    "print(f\"train2占总train的比例: {train2_ratio*100:.2f}%\")\n",
    "print(f\"train3占总train的比例: {train3_ratio*100:.2f}%\")\n",
    "# 调整直方图的y轴范围，仅显示到0.6\n",
    "train_values = [train0_ratio, train1_ratio, train2_ratio, train3_ratio]\n",
    "train_labels = ['train0', 'train1', 'train2', 'train3']\n",
    "plt.bar(train_labels, train_values, color=['gold', 'yellowgreen', 'lightcoral', 'lightskyblue'])\n",
    "plt.xlabel('Train Categories')\n",
    "plt.ylabel('Proportions')\n",
    "plt.title('Histogram of Train Data Proportions')\n",
    "plt.ylim(0, 0.6)  # 设置y轴的范围为0到0.6\n",
    "plt.show()\n"
   ]
  },
  {
   "cell_type": "code",
   "execution_count": 27,
   "id": "7ee9f725",
   "metadata": {},
   "outputs": [
    {
     "name": "stdout",
     "output_type": "stream",
     "text": [
      "3146960 3123064 392148 242596\n",
      "test0占总test的比例: 45.58%\n",
      "test1占总test的比例: 45.23%\n",
      "test2占总test的比例: 5.68%\n",
      "test3占总test的比例: 3.51%\n"
     ]
    }
   ],
   "source": [
    "import cv2\n",
    "import numpy as np\n",
    "picture = r'D:\\notebook\\ann_dir\\test'\n",
    "png_files = os.listdir(picture)\n",
    "\n",
    "test0 = test1 = test2 = test3 = 0\n",
    "for img_file in png_files:\n",
    "    img_path = os.path.join(picture, img_file)\n",
    "    mask = cv2.imread(img_path)\n",
    "\n",
    "    # 使用cv2.inRange()检查每个特定颜色的像素，然后计数\n",
    "    test0 += cv2.countNonZero(cv2.inRange(mask, np.array([0,0,0]), np.array([0,0,0])))\n",
    "    test1 += cv2.countNonZero(cv2.inRange(mask, np.array([1,1,1]), np.array([1,1,1])))\n",
    "    test2 += cv2.countNonZero(cv2.inRange(mask, np.array([2,2,2]), np.array([2,2,2])))\n",
    "    test3 += cv2.countNonZero(cv2.inRange(mask, np.array([3,3,3]), np.array([3,3,3])))\n",
    "\n",
    "print(test0, test1, test2, test3)\n",
    "# 假设test0, test1, test2, test3已经根据上下文定义并计算了值\n",
    "\n",
    "# 计算所有test变量的总和\n",
    "total_test = test0 + test1 + test2 + test3\n",
    "\n",
    "# 计算test0, test1, test2, test3占总test的比例\n",
    "test0_ratio = test0 / total_test if total_test > 0 else 0\n",
    "test1_ratio = test1 / total_test if total_test > 0 else 0\n",
    "test2_ratio = test2 / total_test if total_test > 0 else 0\n",
    "test3_ratio = test3 / total_test if total_test > 0 else 0\n",
    "\n",
    "print(f\"test0占总test的比例: {test0_ratio*100:.2f}%\")\n",
    "print(f\"test1占总test的比例: {test1_ratio*100:.2f}%\")\n",
    "print(f\"test2占总test的比例: {test2_ratio*100:.2f}%\")\n",
    "print(f\"test3占总test的比例: {test3_ratio*100:.2f}%\")\n"
   ]
  },
  {
   "cell_type": "code",
   "execution_count": 28,
   "id": "d17d524a",
   "metadata": {},
   "outputs": [
    {
     "name": "stdout",
     "output_type": "stream",
     "text": [
      "4739250 2131200 408394 688196\n",
      "val0占总val的比例: 59.49%\n",
      "val1占总val的比例: 26.75%\n",
      "val2占总val的比例: 5.13%\n",
      "val3占总val的比例: 8.64%\n"
     ]
    }
   ],
   "source": [
    "import cv2\n",
    "import numpy as np\n",
    "picture = r'D:\\notebook\\ann_dir\\val'\n",
    "png_files = os.listdir(picture)\n",
    "val0 = val1 = val2 = val3 = 0\n",
    "for img_file in png_files:\n",
    "    img_path = os.path.join(picture, img_file)\n",
    "    mask = cv2.imread(img_path)\n",
    "\n",
    "    # 使用cv2.inRange()检查每个特定颜色的像素，然后计数\n",
    "    val0 += cv2.countNonZero(cv2.inRange(mask, np.array([0,0,0]), np.array([0,0,0])))\n",
    "    val1 += cv2.countNonZero(cv2.inRange(mask, np.array([1,1,1]), np.array([1,1,1])))\n",
    "    val2 += cv2.countNonZero(cv2.inRange(mask, np.array([2,2,2]), np.array([2,2,2])))\n",
    "    val3 += cv2.countNonZero(cv2.inRange(mask, np.array([3,3,3]), np.array([3,3,3])))\n",
    "\n",
    "print(val0, val1, val2, val3)\n",
    "# 假设val0, val1, val2, val3已经根据上下文定义并计算了值\n",
    "\n",
    "# 计算所有val变量的总和\n",
    "total_val = val0 + val1 + val2 + val3\n",
    "\n",
    "# 计算val0, val1, val2, val3占总val的比例\n",
    "val0_ratio = val0 / total_val if total_val > 0 else 0\n",
    "val1_ratio = val1 / total_val if total_val > 0 else 0\n",
    "val2_ratio = val2 / total_val if total_val > 0 else 0\n",
    "val3_ratio = val3 / total_val if total_val > 0 else 0\n",
    "\n",
    "print(f\"val0占总val的比例: {val0_ratio*100:.2f}%\")\n",
    "print(f\"val1占总val的比例: {val1_ratio*100:.2f}%\")\n",
    "print(f\"val2占总val的比例: {val2_ratio*100:.2f}%\")\n",
    "print(f\"val3占总val的比例: {val3_ratio*100:.2f}%\")\n"
   ]
  },
  {
   "cell_type": "code",
   "execution_count": 48,
   "id": "e3c8ba9a",
   "metadata": {},
   "outputs": [
    {
     "name": "stdout",
     "output_type": "stream",
     "text": [
      "[0.5608114511978028, 0.3478929889256946, 0.033937084940899906, 0.05735847493560261, 0.4557662183580969, 0.4523054214131452, 0.05679379814064716, 0.03513456208811071, 0.5948570610916978, 0.2675021086877937, 0.051260443025264085, 0.0863803871952444]\n"
     ]
    }
   ],
   "source": [
    "print([train0_ratio, train1_ratio, train2_ratio, train3_ratio,test0_ratio, test1_ratio, test2_ratio, test3_ratio,val0_ratio, val1_ratio, val2_ratio, val3_ratio])"
   ]
  },
  {
   "cell_type": "code",
   "execution_count": 8,
   "id": "e2e42b7a",
   "metadata": {},
   "outputs": [
    {
     "data": {
      "image/png": "[encoded data removed]",
      "text/plain": [
       "<Figure size 640x480 with 1 Axes>"
      ]
     },
     "metadata": {},
     "output_type": "display_data"
    }
   ],
   "source": [
    "train_values = [0.56, 0.34, 0.04, 0.06, 0.45, 0.45, 0.06, 0.04, 0.59, 0.27, 0.05, 0.09]\n",
    "train_labels = ['train0', 'train1', 'train2', 'train3','test0', 'test1', 'test2', 'test3','val0', 'val1', 'val2', 'val3']\n",
    "colors = ['Black','cyan', 'blue', 'yellow'] * 3\n",
    "# 设置每个条形图的位置，增加间隔以放大每四个值之间的空白\n",
    "positions = np.array(range(len(train_values)))  # 基本位置\n",
    "positions[4:] += 1  # 在第一个数据集和第二个数据集之间增加空间\n",
    "positions[8:] += 1  # 在第二个数据集和第三个数据集之间增加空间\n",
    "bar_width = 1\n",
    "# 绘制条形图\n",
    "plt.bar(positions,train_values,width=bar_width,  color=colors)\n",
    "\n",
    "# 设置图表元素\n",
    "# plt.xlabel('Categories')\n",
    "# plt.ylabel('Proportions')\n",
    "# plt.title('Histogram of Data Proportions')\n",
    "# plt.xticks(positions, train_labels, rotation=45)\n",
    "plt.xticks([])\n",
    "plt.ylim(0,0.6)\n",
    "my_y_ticks = np.arange(0,0.7, 0.2)\n",
    "plt.yticks(my_y_ticks,fontsize=16)\n",
    "plt.tight_layout()  # 适应窗口大小\n",
    "plt.savefig('datasetHist.tif', dpi=300, bbox_inches='tight')\n",
    "# 显示图表\n",
    "plt.show()\n"
   ]
  },
  {
   "cell_type": "code",
   "execution_count": 10,
   "id": "a594d5aa",
   "metadata": {},
   "outputs": [
    {
     "data": {
      "image/png": "[encoded data removed]",
      "text/plain": [
       "<Figure size 640x480 with 1 Axes>"
      ]
     },
     "metadata": {},
     "output_type": "display_data"
    }
   ],
   "source": [
    "import matplotlib.pyplot as plt\n",
    "import numpy as np\n",
    "\n",
    "# 数据\n",
    "train_values = [0.56, 0.34, 0.04, 0.06, 0.45, 0.45, 0.06, 0.04, 0.59, 0.27, 0.05, 0.09]\n",
    "train_labels = ['train0', 'train1', 'train2', 'train3', 'test0', 'test1', 'test2', 'test3', 'val0', 'val1', 'val2', 'val3']\n",
    "\n",
    "# 定义调色板\n",
    "palette = [\n",
    "    ['background', [127, 127, 127]],\n",
    "    ['monolayer', [204, 255, 255]],\n",
    "    ['bilayer', [51, 153,204]],\n",
    "    ['multilayer', [102, 102, 51]]\n",
    "]\n",
    "\n",
    "# 将调色板转换为颜色列表\n",
    "colors = [tuple([v / 255.0 for v in color[1]]) for color in palette] * 3\n",
    "\n",
    "# 设置每个条形图的位置，增加间隔以放大每四个值之间的空白\n",
    "positions = np.array(range(len(train_values)))  # 基本位置\n",
    "positions[4:] += 1  # 在第一个数据集和第二个数据集之间增加空间\n",
    "positions[8:] += 1  # 在第二个数据集和第三个数据集之间增加空间\n",
    "\n",
    "bar_width = 1\n",
    "\n",
    "# 绘制条形图\n",
    "plt.bar(positions, train_values, width=bar_width, color=colors)\n",
    "\n",
    "# 设置图表元素\n",
    "plt.xticks([])\n",
    "plt.ylim(0, 0.6)\n",
    "my_y_ticks = np.arange(0, 0.7, 0.2)\n",
    "plt.yticks(my_y_ticks, fontsize=16)\n",
    "plt.tight_layout()  # 适应窗口大小\n",
    "plt.savefig('datasetHist.tif', dpi=300, bbox_inches='tight')\n",
    "\n",
    "# 显示图表\n",
    "plt.show()\n"
   ]
  },
  {
   "cell_type": "code",
   "execution_count": 1,
   "id": "b55778ef",
   "metadata": {},
   "outputs": [
    {
     "data": {
      "image/png": "[encoded data removed]",
      "text/plain": [
       "<Figure size 640x480 with 1 Axes>"
      ]
     },
     "metadata": {},
     "output_type": "display_data"
    }
   ],
   "source": [
    "import matplotlib.pyplot as plt\n",
    "import numpy as np\n",
    "from matplotlib.ticker import PercentFormatter\n",
    "\n",
    "# 数据\n",
    "train_values = [0.56, 0.34, 0.04, 0.06, 0.45, 0.45, 0.06, 0.04, 0.59, 0.27, 0.05, 0.09]\n",
    "train_labels = ['train0', 'train1', 'train2', 'train3', 'test0', 'test1', 'test2', 'test3', 'val0', 'val1', 'val2', 'val3']\n",
    "\n",
    "# 定义调色板\n",
    "palette = [\n",
    "    ['background', [127, 127, 127]],\n",
    "    ['monolayer', [204, 255, 255]],\n",
    "    ['bilayer', [51, 153, 204]],\n",
    "    ['multilayer', [102, 102, 51]]\n",
    "]\n",
    "\n",
    "# 将调色板转换为颜色列表\n",
    "colors = [tuple([v / 255.0 for v in color[1]]) for color in palette] * 3\n",
    "\n",
    "# 设置每个条形图的位置，增加间隔以放大每四个值之间的空白\n",
    "positions = np.array(range(len(train_values)))  # 基本位置\n",
    "positions[4:] += 1  # 在第一个数据集和第二个数据集之间增加空间\n",
    "positions[8:] += 1  # 在第二个数据集和第三个数据集之间增加空间\n",
    "\n",
    "bar_width = 1\n",
    "\n",
    "# 绘制条形图\n",
    "plt.bar(positions, train_values, width=bar_width, color=colors)\n",
    "\n",
    "# 设置图表元素\n",
    "plt.xticks([])\n",
    "plt.ylim(0, 0.7)\n",
    "\n",
    "# 设置y轴为百分比格式\n",
    "plt.gca().yaxis.set_major_formatter(PercentFormatter(1))\n",
    "\n",
    "my_y_ticks = np.arange(0, 0.7, 0.1)\n",
    "plt.yticks(my_y_ticks, fontsize=16)\n",
    "plt.tight_layout()  # 适应窗口大小\n",
    "plt.savefig('datasetHist.tif', dpi=300, bbox_inches='tight')\n",
    "\n",
    "# 显示图表\n",
    "plt.show()"
   ]
  },
  {
   "cell_type": "code",
   "execution_count": 11,
   "id": "fde38473",
   "metadata": {},
   "outputs": [
    {
     "data": {
      "image/png": "[encoded data removed]",
      "text/plain": [
       "<Figure size 640x480 with 1 Axes>"
      ]
     },
     "metadata": {},
     "output_type": "display_data"
    }
   ],
   "source": [
    "import matplotlib.pyplot as plt\n",
    "import numpy as np\n",
    "from matplotlib.ticker import FuncFormatter\n",
    "\n",
    "# 数据\n",
    "train_values = [0.56, 0.34, 0.04, 0.06, 0.45, 0.45, 0.06, 0.04, 0.59, 0.27, 0.05, 0.09]\n",
    "train_labels = ['train0', 'train1', 'train2', 'train3', 'test0', 'test1', 'test2', 'test3', 'val0', 'val1', 'val2', 'val3']\n",
    "\n",
    "# 定义调色板\n",
    "palette = [\n",
    "    ['background', [127, 127, 127]],\n",
    "    ['monolayer', [204, 255, 255]],\n",
    "    ['bilayer', [51, 153, 204]],\n",
    "    ['multilayer', [102, 102, 51]]\n",
    "]\n",
    "\n",
    "# 将调色板转换为颜色列表\n",
    "colors = [tuple([v / 255.0 for v in color[1]]) for color in palette] * 3\n",
    "\n",
    "# 设置每个条形图的位置，增加间隔以放大每四个值之间的空白\n",
    "positions = np.array(range(len(train_values)))  # 基本位置\n",
    "positions[4:] += 1  # 在第一个数据集和第二个数据集之间增加空间\n",
    "positions[8:] += 1  # 在第二个数据集和第三个数据集之间增加空间\n",
    "\n",
    "bar_width = 1\n",
    "\n",
    "# 绘制条形图\n",
    "bars = plt.bar(positions, train_values, width=bar_width, color=colors)\n",
    "\n",
    "# 设置图表元素\n",
    "plt.xticks([])\n",
    "plt.ylim(0, 0.65)\n",
    "\n",
    "# 自定义y轴格式化函数，显示为百分比\n",
    "def to_percent(y, position):\n",
    "    return str(int(100 * y))  \n",
    "\n",
    "formatter = FuncFormatter(to_percent)\n",
    "plt.gca().yaxis.set_major_formatter(formatter)\n",
    "\n",
    "my_y_ticks = np.arange(0, 0.7, 0.1)\n",
    "plt.yticks(my_y_ticks, fontsize=10)\n",
    "\n",
    "# 在每个条形上方显示百分比值\n",
    "for bar in bars:\n",
    "    yval = bar.get_height()\n",
    "    plt.text(bar.get_x() + bar.get_width()/2, yval, f'{100 * yval:.0f}%', ha='center', va='bottom', fontsize=10)\n",
    "\n",
    "plt.tight_layout()  # 适应窗口大小\n",
    "plt.savefig('datasetHist.tif', dpi=300, bbox_inches='tight')\n",
    "\n",
    "# 显示图表\n",
    "plt.show()\n",
    "\n"
   ]
  },
  {
   "cell_type": "code",
   "execution_count": null,
   "id": "e80d7c8e",
   "metadata": {},
   "outputs": [],
   "source": []
  }
 ],
 "metadata": {
  "kernelspec": {
   "display_name": "Python [conda env:mmseg] *",
   "language": "python",
   "name": "conda-env-mmseg-py"
  },
  "language_info": {
   "codemirror_mode": {
    "name": "ipython",
    "version": 3
   },
   "file_extension": ".py",
   "mimetype": "text/x-python",
   "name": "python",
   "nbconvert_exporter": "python",
   "pygments_lexer": "ipython3",
   "version": "3.8.19"
  }
 },
 "nbformat": 4,
 "nbformat_minor": 5
}
